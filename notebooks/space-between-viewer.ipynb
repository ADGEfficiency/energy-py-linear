{
 "cells": [
  {
   "cell_type": "markdown",
   "id": "43c57866",
   "metadata": {},
   "source": [
    "# Viewer\n",
    "For looking at the results of `space-between-expt.ipynb` .\n",
    "\n",
    "If you didn't run this notebook you can grab a copy by running `$ make pulls3-results` to grab a copy from S3 - this will put results into `energypy\n",
    "\n",
    "## Load up all results"
   ]
  },
  {
   "cell_type": "code",
   "execution_count": null,
   "id": "b21a3439",
   "metadata": {},
   "outputs": [],
   "source": [
    "!pip install matplotlib pandas -Uq\n",
    "import pandas as pd\n",
    "\n",
    "results = pd.read_parquet('./results/monthly-results.parquet')\n",
    "results.head(3)"
   ]
  },
  {
   "cell_type": "markdown",
   "id": "a8aa088e",
   "metadata": {},
   "source": [
    "## Entire time period summary"
   ]
  },
  {
   "cell_type": "code",
   "execution_count": null,
   "id": "4468fd41",
   "metadata": {},
   "outputs": [],
   "source": [
    "summary = results.groupby('objective').agg({\n",
    "    'Actual Cost [$/5T]': 'sum',\n",
    "    'Carbon Cost [tC/5T]': 'sum',\n",
    "})\n",
    "summary.loc['delta', :] = summary.loc['price', :] - summary.loc['carbon', :]\n",
    "summary['carbon-price'] = summary.iloc[:, 0] / summary.iloc[:, 1]\n",
    "summary.head()"
   ]
  },
  {
   "cell_type": "markdown",
   "id": "86c8ea8b",
   "metadata": {},
   "source": [
    "## Monthly Summaries"
   ]
  },
  {
   "cell_type": "code",
   "execution_count": null,
   "id": "75a0f1ea",
   "metadata": {},
   "outputs": [],
   "source": [
    "pvt = results.pivot_table(index='date', values=['Actual Cost [$/5T]', 'Carbon Cost [tC/5T]'], columns='objective')\n",
    "pvt.columns = [' '.join(col).strip() for col in pvt.columns.values]\n",
    "pvt.head(3)"
   ]
  },
  {
   "cell_type": "code",
   "execution_count": null,
   "id": "596af128",
   "metadata": {},
   "outputs": [],
   "source": [
    "pvt['price-delta'] = pvt.loc[:, 'Actual Cost [$/5T] carbon'] - pvt.loc[:, 'Actual Cost [$/5T] price']\n",
    "pvt['carbon-delta'] = pvt.loc[:, 'Carbon Cost [tC/5T] price'] - pvt.loc[:, 'Carbon Cost [tC/5T] carbon']\n",
    "pvt['carbon-price'] = pvt['price-delta'] / pvt['carbon-delta']\n",
    "pvt"
   ]
  },
  {
   "cell_type": "code",
   "execution_count": null,
   "id": "b08bb23a",
   "metadata": {},
   "outputs": [],
   "source": [
    "import matplotlib.pyplot as plt\n",
    "\n",
    "f, axes = plt.subplots(nrows=3, figsize=(20, 10), sharex=True)\n",
    "pvt.plot(ax=axes[0], y='price-delta', kind='bar')\n",
    "pvt.plot(ax=axes[1], y='carbon-delta', kind='bar')\n",
    "pvt.plot(ax=axes[2], y='carbon-price', kind='bar')"
   ]
  },
  {
   "cell_type": "code",
   "execution_count": null,
   "id": "4eeeba6a",
   "metadata": {},
   "outputs": [],
   "source": [
    "#  annual groupby\n",
    "pvt.index = pd.to_datetime(pvt.index)\n",
    "\n",
    "annual = pvt.groupby(pvt.index.year).agg({\n",
    "    'price-delta': 'sum',\n",
    "    'carbon-delta': 'sum'\n",
    "})\n",
    "annual['carbon-price'] = annual['price-delta'] / annual['carbon-delta']\n",
    "\n",
    "f, axes = plt.subplots(nrows=3, figsize=(20, 10), sharex=True)\n",
    "annual.plot(ax=axes[0], y='price-delta', kind='bar')\n",
    "annual.plot(ax=axes[1], y='carbon-delta', kind='bar')\n",
    "annual.plot(ax=axes[2], y='carbon-price', kind='bar')"
   ]
  },
  {
   "cell_type": "code",
   "execution_count": null,
   "id": "3f212e04",
   "metadata": {},
   "outputs": [],
   "source": [
    "#  scatter carbon delta versus price delta\n",
    "pvt.plot(x='price-delta', y='carbon-delta', kind='scatter')"
   ]
  },
  {
   "cell_type": "code",
   "execution_count": null,
   "id": "a6bb7f01",
   "metadata": {},
   "outputs": [],
   "source": []
  },
  {
   "cell_type": "code",
   "execution_count": null,
   "id": "708d4ef5",
   "metadata": {},
   "outputs": [],
   "source": []
  }
 ],
 "metadata": {
  "kernelspec": {
   "display_name": "Python 3 (ipykernel)",
   "language": "python",
   "name": "python3"
  },
  "language_info": {
   "codemirror_mode": {
    "name": "ipython",
    "version": 3
   },
   "file_extension": ".py",
   "mimetype": "text/x-python",
   "name": "python",
   "nbconvert_exporter": "python",
   "pygments_lexer": "ipython3",
   "version": "3.7.9"
  }
 },
 "nbformat": 4,
 "nbformat_minor": 5
}
