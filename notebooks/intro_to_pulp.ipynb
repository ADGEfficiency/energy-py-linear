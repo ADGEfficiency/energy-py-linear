{
 "cells": [
  {
   "cell_type": "markdown",
   "metadata": {},
   "source": [
    "This notebook demonstrates how to use `pulp` to solve a simple linear programming problem - determining how to dispatch two steam boilers with different costs to generate steam"
   ]
  },
  {
   "cell_type": "code",
   "execution_count": 1,
   "metadata": {},
   "outputs": [
    {
     "name": "stdout",
     "output_type": "stream",
     "text": [
      "Optimal\n",
      "boiler_1 50.0\n",
      "boiler_2 0.0\n"
     ]
    }
   ],
   "source": [
    "import pulp\n",
    "\n",
    "from pulp import LpProblem, LpMinimize, LpVariable, LpStatus\n",
    "\n",
    "prob = LpProblem('cost minimization', LpMinimize)\n",
    "\n",
    "boiler_1 = LpVariable('boiler_1', 0, 100)\n",
    "boiler_2 = LpVariable('boiler_2', 0, 100)\n",
    "\n",
    "#  the objective function - this must be formed before any constraints added\n",
    "prob += boiler_1 * 2 + boiler_2 * 3\n",
    "\n",
    "#  a constraint - the steam balance\n",
    "total_steam_demand = 50\n",
    "prob += boiler_1 + boiler_2 == total_steam_demand\n",
    "\n",
    "prob.writeLP('intro_to_pulp.lp')\n",
    "prob.solve()\n",
    "\n",
    "print(LpStatus[prob.status])\n",
    "\n",
    "for v in prob.variables():\n",
    "    print('{} {}'.format(v.name, v.varValue))"
   ]
  },
  {
   "cell_type": "code",
   "execution_count": null,
   "metadata": {},
   "outputs": [],
   "source": []
  }
 ],
 "metadata": {
  "kernelspec": {
   "display_name": "Python 3",
   "language": "python",
   "name": "python3"
  },
  "language_info": {
   "codemirror_mode": {
    "name": "ipython",
    "version": 3
   },
   "file_extension": ".py",
   "mimetype": "text/x-python",
   "name": "python",
   "nbconvert_exporter": "python",
   "pygments_lexer": "ipython3",
   "version": "3.5.6"
  }
 },
 "nbformat": 4,
 "nbformat_minor": 2
}
