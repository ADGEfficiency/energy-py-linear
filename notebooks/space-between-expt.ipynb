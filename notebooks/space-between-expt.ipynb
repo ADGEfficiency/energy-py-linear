{
 "cells": [
  {
   "cell_type": "markdown",
   "id": "d40dfb5f",
   "metadata": {},
   "source": [
    "# Experiment\n",
    "\n",
    "- run linear program with NEM trading price + NEM marginal carbon intensity\n",
    "- optimize for prices and carbon + the space inbetween\n",
    "\n",
    "Before running this notebook, need to run `$ make expt-space-between` in the `energy-py-linear` folder.\n",
    "\n",
    "## Dataset Preparation"
   ]
  },
  {
   "cell_type": "code",
   "execution_count": null,
   "id": "7ce082f6",
   "metadata": {},
   "outputs": [],
   "source": [
    "!pip install pandas -Uq\n",
    "from pathlib import Path\n",
    "import pandas as pd\n",
    "\n",
    "\n",
    "def load_nem_data(table, region=None, region_col='REGIONID'):\n",
    "    anchor = Path.home() / 'nem-data' / 'data' / table\n",
    "    clean = anchor.glob('**/clean.parquet')\n",
    "    fis = [pd.read_parquet(f) for f in clean]\n",
    "    data = pd.concat(fis, axis=0)\n",
    "\n",
    "    if region:\n",
    "        mask = data[region_col] == region\n",
    "        data = data.loc[mask, :]\n",
    "    return data"
   ]
  },
  {
   "cell_type": "code",
   "execution_count": null,
   "id": "3491734d",
   "metadata": {},
   "outputs": [],
   "source": [
    "region = 'SA1'\n",
    "prices = load_nem_data('TRADINGPRICE', region)\n",
    "prices = prices.drop_duplicates().set_index('interval-start')\n",
    "prices = prices.resample('5T').ffill()\n",
    "prices.head(2)"
   ]
  },
  {
   "cell_type": "code",
   "execution_count": null,
   "id": "4c64bc47",
   "metadata": {},
   "outputs": [],
   "source": [
    "sites = pd.read_csv(\"http://www.nemweb.com.au/Reports/CURRENT/CDEII/CO2EII_AVAILABLE_GENERATORS.CSV\", skiprows=1).iloc[:-1, :]\n",
    "sites.head(2)"
   ]
  },
  {
   "cell_type": "markdown",
   "id": "f4aad0ce",
   "metadata": {},
   "source": [
    "## Carbon Data\n",
    "\n",
    "Carbon data needs a bit of work - select only ENOF rows:"
   ]
  },
  {
   "cell_type": "code",
   "execution_count": null,
   "id": "686c6c2e",
   "metadata": {},
   "outputs": [],
   "source": [
    "carbon = load_nem_data('nemde', region, 'RegionID')"
   ]
  },
  {
   "cell_type": "code",
   "execution_count": null,
   "id": "80b6ec03",
   "metadata": {},
   "outputs": [],
   "source": [
    "carbon['PeriodID'] = pd.to_datetime(carbon['PeriodID'])\n",
    "carbon['PeriodID'] = carbon['PeriodID'].dt.tz_localize(None)\n",
    "carbon"
   ]
  },
  {
   "cell_type": "code",
   "execution_count": null,
   "id": "3977cae4",
   "metadata": {},
   "outputs": [],
   "source": [
    "mask = carbon['Market'] == 'Energy'\n",
    "carbon = carbon.loc[mask, :]\n",
    "\n",
    "mask = carbon['DispatchedMarket'] == 'ENOF'\n",
    "carbon = carbon.loc[mask, :]\n",
    "\n",
    "carbon['PeriodID'] = pd.to_datetime(carbon['PeriodID'])"
   ]
  },
  {
   "cell_type": "markdown",
   "id": "28e1094e",
   "metadata": {},
   "source": [
    "Want to join on NEM Sites"
   ]
  },
  {
   "cell_type": "code",
   "execution_count": null,
   "id": "e62aaf61",
   "metadata": {},
   "outputs": [],
   "source": [
    "sites.head(2)"
   ]
  },
  {
   "cell_type": "code",
   "execution_count": null,
   "id": "76996ace",
   "metadata": {},
   "outputs": [],
   "source": [
    "carbon.head(2)"
   ]
  },
  {
   "cell_type": "code",
   "execution_count": null,
   "id": "9efa2d53",
   "metadata": {},
   "outputs": [],
   "source": [
    "carbon = carbon.merge(sites[['DUID', 'REGIONID', 'CO2E_EMISSIONS_FACTOR']], left_on='Unit', right_on='DUID', how='left')"
   ]
  },
  {
   "cell_type": "code",
   "execution_count": null,
   "id": "0905502c",
   "metadata": {},
   "outputs": [],
   "source": [
    "mask = carbon['CO2E_EMISSIONS_FACTOR'].isnull()\n",
    "carbon = carbon.loc[~mask, :]\n",
    "assert carbon.isnull().sum().sum() == 0"
   ]
  },
  {
   "cell_type": "code",
   "execution_count": null,
   "id": "55fb671a",
   "metadata": {},
   "outputs": [],
   "source": [
    "carbon['carbon_generation_[tc/h]'] = carbon['CO2E_EMISSIONS_FACTOR'] * carbon['Increase']\n",
    "\n",
    "carbon = carbon.set_index('PeriodID')"
   ]
  },
  {
   "cell_type": "code",
   "execution_count": null,
   "id": "b674143a",
   "metadata": {},
   "outputs": [],
   "source": [
    "grp = carbon.groupby(carbon.index).agg({\n",
    "    'carbon_generation_[tc/h]': 'sum',\n",
    "    'Increase': 'sum',\n",
    "})"
   ]
  },
  {
   "cell_type": "code",
   "execution_count": null,
   "id": "e2eda910",
   "metadata": {},
   "outputs": [],
   "source": [
    "grp.sort_values('Increase').head(4)"
   ]
  },
  {
   "cell_type": "code",
   "execution_count": null,
   "id": "08e96ede",
   "metadata": {},
   "outputs": [],
   "source": [
    "carbon.head(2)"
   ]
  },
  {
   "cell_type": "markdown",
   "id": "34cf13de",
   "metadata": {},
   "source": [
    "Drop wind for coal:"
   ]
  },
  {
   "cell_type": "code",
   "execution_count": null,
   "id": "67be8271",
   "metadata": {},
   "outputs": [],
   "source": [
    "carbon.loc[\n",
    "    '2014-01-01 12:00:00', :\n",
    "]"
   ]
  },
  {
   "cell_type": "code",
   "execution_count": null,
   "id": "73cb7d48",
   "metadata": {},
   "outputs": [],
   "source": [
    "ds = prices.merge(carbon, how='left', left_index=True, right_index=True).sort_index()\n",
    "print(ds.columns)\n",
    "\n",
    "ds = ds.loc[:,[\n",
    "    'RRP', 'Increase'\n",
    "]]\n",
    "ds.head(3)"
   ]
  },
  {
   "cell_type": "code",
   "execution_count": null,
   "id": "c0345daf",
   "metadata": {},
   "outputs": [],
   "source": [
    "ds = ds.dropna(axis=0)\n",
    "assert ds.isnull().sum().sum() == 0"
   ]
  },
  {
   "cell_type": "code",
   "execution_count": null,
   "id": "1acd89b2",
   "metadata": {},
   "outputs": [],
   "source": [
    "ds.shape"
   ]
  },
  {
   "cell_type": "markdown",
   "id": "55988745",
   "metadata": {},
   "source": [
    "## Battery Modelling"
   ]
  },
  {
   "cell_type": "code",
   "execution_count": null,
   "id": "58726bef",
   "metadata": {},
   "outputs": [],
   "source": [
    "!pip install -q pandas==1.3.3 fastparquet\n",
    "import energypylinear as epl"
   ]
  },
  {
   "cell_type": "code",
   "execution_count": null,
   "id": "724ad8fa",
   "metadata": {},
   "outputs": [],
   "source": [
    "mdl = epl.Battery(power=2, capacity=4)\n",
    "mdl"
   ]
  },
  {
   "cell_type": "markdown",
   "id": "3e52c395",
   "metadata": {},
   "source": [
    "Want to see profit versus carbon per year\n",
    "\n",
    "Also look at correlation between price & average carbon"
   ]
  },
  {
   "cell_type": "code",
   "execution_count": null,
   "id": "59992905",
   "metadata": {},
   "outputs": [],
   "source": [
    "subset = ds.iloc[:1000, :]\n",
    "\n",
    "opt_price = mdl.optimize(\n",
    "    prices=subset['RRP'], carbon=subset['Increase'], objective='price'\n",
    ")"
   ]
  },
  {
   "cell_type": "code",
   "execution_count": null,
   "id": "58fee2ac",
   "metadata": {},
   "outputs": [],
   "source": [
    "carbon_opt = mdl.optimize(\n",
    "    prices=subset['RRP'], carbon=subset['Increase'], objective='carbon'\n",
    ")"
   ]
  },
  {
   "cell_type": "code",
   "execution_count": null,
   "id": "4c10e839",
   "metadata": {},
   "outputs": [],
   "source": [
    "opt_price = pd.DataFrame(opt_price)\n",
    "cols = [c for c in opt_price.columns if 'Cost' in c]\n",
    "opt_price.sum()[cols]"
   ]
  },
  {
   "cell_type": "code",
   "execution_count": null,
   "id": "f371f5a5",
   "metadata": {},
   "outputs": [],
   "source": [
    "pd.DataFrame(carbon_opt).sum()[cols]"
   ]
  },
  {
   "cell_type": "code",
   "execution_count": null,
   "id": "d8ce45e2",
   "metadata": {},
   "outputs": [],
   "source": [
    "ds.head(3)"
   ]
  },
  {
   "cell_type": "markdown",
   "id": "9ffcdf0a",
   "metadata": {},
   "source": [
    "## Now the full experiment\n",
    "\n",
    "Lets parallelize this"
   ]
  },
  {
   "cell_type": "code",
   "execution_count": null,
   "id": "12185987",
   "metadata": {},
   "outputs": [],
   "source": [
    "def make_summary(data, name, year_month):\n",
    "    data = pd.DataFrame(data)\n",
    "    cols = [c for c in data.columns if 'Cost' in c]\n",
    "    data = pd.DataFrame(data).agg(\n",
    "        {c: 'sum' for c in cols}\n",
    "    ).to_frame().T\n",
    "    data['objective'] = name\n",
    "    data['year'] = year_month[0]\n",
    "    data['month'] = year_month[1]\n",
    "    data['day'] = 1\n",
    "    return data\n",
    "\n",
    "mdl = epl.Battery(power=2, capacity=4)\n",
    "\n",
    "results = []\n",
    "i = 0\n",
    "lim = 12 * 8\n",
    "for year_month, subset in ds.groupby([ds.index.year, ds.index.month]):\n",
    "    print(year_month)\n",
    "    price = mdl.optimize(\n",
    "        prices=subset['RRP'], carbon=subset['Increase'], objective='price', verbose=False\n",
    "    )\n",
    "    \n",
    "    carbon = mdl.optimize(\n",
    "        prices=subset['RRP'], carbon=subset['Increase'], objective='carbon', verbose=False\n",
    "    )\n",
    "\n",
    "    price = make_summary(price, 'price', year_month)\n",
    "    carbon = make_summary(carbon, 'carbon', year_month)\n",
    "    res = pd.concat([price, carbon], axis=0)\n",
    "\n",
    "    (Path.cwd() / 'results').mkdir(exist_ok=True)\n",
    "    res.to_parquet(f'./results/{year_month[0]}-{year_month[1]}-1.parquet')\n",
    "    results.append(res)\n",
    "    \n",
    "    i += 1\n",
    "    if i >= lim:\n",
    "        break\n",
    "        \n",
    "results = pd.concat(results, axis=0)\n",
    "results['date'] = pd.to_datetime(results[['year', 'month', 'day']]).astype(str)\n",
    "results.to_parquet('./results/monthly-results.parquet')"
   ]
  }
 ],
 "metadata": {
  "kernelspec": {
   "display_name": "Python 3 (ipykernel)",
   "language": "python",
   "name": "python3"
  },
  "language_info": {
   "codemirror_mode": {
    "name": "ipython",
    "version": 3
   },
   "file_extension": ".py",
   "mimetype": "text/x-python",
   "name": "python",
   "nbconvert_exporter": "python",
   "pygments_lexer": "ipython3",
   "version": "3.7.9"
  }
 },
 "nbformat": 4,
 "nbformat_minor": 5
}
