{
 "cells": [
  {
   "cell_type": "markdown",
   "id": "d5d601cb",
   "metadata": {},
   "source": [
    "## Dataset Preparation"
   ]
  },
  {
   "cell_type": "code",
   "execution_count": 1,
   "id": "1f738f0c",
   "metadata": {},
   "outputs": [],
   "source": [
    "from pathlib import Path\n",
    "import pandas as pd\n",
    "\n",
    "region = 'SA1'\n",
    "\n",
    "def load_nem_data(table, region=None, region_col='REGIONID'):\n",
    "    anchor = Path.home() / 'nem-data' / 'data' / table\n",
    "    clean = anchor.glob('**/clean.parquet')\n",
    "    fis = [pd.read_parquet(f) for f in clean]\n",
    "    data = pd.concat(fis, axis=0)\n",
    "\n",
    "    if region:\n",
    "        mask = data[region_col] == region\n",
    "        data = data.loc[mask, :]\n",
    "    return data"
   ]
  },
  {
   "cell_type": "code",
   "execution_count": null,
   "id": "c9a752a1",
   "metadata": {},
   "outputs": [],
   "source": [
    "prices = load_nem_data('TRADINGPRICE', region)\n",
    "prices = prices.drop_duplicates().set_index('interval-start')\n",
    "prices = prices.resample('5T').ffill()\n",
    "prices.head(2)"
   ]
  },
  {
   "cell_type": "code",
   "execution_count": null,
   "id": "580bb591",
   "metadata": {},
   "outputs": [],
   "source": []
  },
  {
   "cell_type": "code",
   "execution_count": null,
   "id": "b3cbf7b1",
   "metadata": {},
   "outputs": [],
   "source": [
    "def nem_sites():\n",
    "    url = (\n",
    "        \"http://www.nemweb.com.au/Reports/CURRENT/CDEII/CO2EII_AVAILABLE_GENERATORS.CSV\"\n",
    "    )\n",
    "    print(f\"nem_sites, {url}\")\n",
    "\n",
    "    raw = pd.read_csv(url)\n",
    "    sites = pd.read_csv(url, skiprows=1).iloc[:-1, :]\n",
    "    sites = sites.rename(\n",
    "        {\n",
    "            \"DUID\": \"site\",\n",
    "            \"CO2E_EMISSIONS_FACTOR\": \"carbon_intensity_[tc/mwh]\",\n",
    "            \"CO2E_ENERGY_SOURCE\": \"energy_source\",\n",
    "        },\n",
    "        axis=1,\n",
    "    )\n",
    "    return sites\n",
    "sites = nem_sites()\n",
    "sites.head(2)"
   ]
  },
  {
   "cell_type": "markdown",
   "id": "b855dade",
   "metadata": {},
   "source": [
    "## Carbon Data\n",
    "\n",
    "Carbon data needs a bit of work - select only ENOF rows:"
   ]
  },
  {
   "cell_type": "code",
   "execution_count": null,
   "id": "657b7fbe",
   "metadata": {},
   "outputs": [],
   "source": [
    "carbon = load_nem_data('nemde', region, 'RegionID')"
   ]
  },
  {
   "cell_type": "code",
   "execution_count": null,
   "id": "922083e8",
   "metadata": {},
   "outputs": [],
   "source": [
    "carbon['PeriodID'] = pd.to_datetime(carbon['PeriodID'])\n",
    "carbon['PeriodID'] = carbon['PeriodID'].dt.tz_localize(None)\n",
    "carbon"
   ]
  },
  {
   "cell_type": "code",
   "execution_count": null,
   "id": "02b0ea0c",
   "metadata": {},
   "outputs": [],
   "source": [
    "mask = carbon['Market'] == 'Energy'\n",
    "carbon = carbon.loc[mask, :]\n",
    "\n",
    "mask = carbon['DispatchedMarket'] == 'ENOF'\n",
    "carbon = carbon.loc[mask, :]\n",
    "\n",
    "carbon['PeriodID'] = pd.to_datetime(carbon['PeriodID'])"
   ]
  },
  {
   "cell_type": "markdown",
   "id": "cd07ac5a",
   "metadata": {},
   "source": [
    "Want to join on NEM Sites"
   ]
  },
  {
   "cell_type": "code",
   "execution_count": null,
   "id": "9a8442d3",
   "metadata": {},
   "outputs": [],
   "source": [
    "sites.head(2)"
   ]
  },
  {
   "cell_type": "code",
   "execution_count": null,
   "id": "e11d049e",
   "metadata": {},
   "outputs": [],
   "source": [
    "carbon.head(2)"
   ]
  },
  {
   "cell_type": "code",
   "execution_count": null,
   "id": "db292132",
   "metadata": {},
   "outputs": [],
   "source": [
    "carbon = carbon.merge(sites[['site', 'REGIONID', 'carbon_intensity_[tc/mwh]']], left_on='Unit', right_on='site', how='left')"
   ]
  },
  {
   "cell_type": "code",
   "execution_count": null,
   "id": "2753c4cd",
   "metadata": {},
   "outputs": [],
   "source": [
    "mask = carbon['carbon_intensity_[tc/mwh]'].isnull()\n",
    "carbon = carbon.loc[~mask, :]\n",
    "assert carbon.isnull().sum().sum() == 0"
   ]
  },
  {
   "cell_type": "code",
   "execution_count": null,
   "id": "16475192",
   "metadata": {},
   "outputs": [],
   "source": [
    "carbon['carbon_generation_[tc/h]'] = carbon['carbon_intensity_[tc/mwh]'] * carbon['Increase']\n",
    "\n",
    "carbon = carbon.set_index('PeriodID')"
   ]
  },
  {
   "cell_type": "code",
   "execution_count": null,
   "id": "2c13e1d7",
   "metadata": {},
   "outputs": [],
   "source": [
    "grp = carbon.groupby(carbon.index).agg({\n",
    "    'carbon_generation_[tc/h]': 'sum',\n",
    "    'Increase': 'sum',\n",
    "})"
   ]
  },
  {
   "cell_type": "code",
   "execution_count": null,
   "id": "90c9ae36",
   "metadata": {},
   "outputs": [],
   "source": [
    "grp.sort_values('Increase').head(4)"
   ]
  },
  {
   "cell_type": "code",
   "execution_count": null,
   "id": "29ad1991",
   "metadata": {},
   "outputs": [],
   "source": [
    "carbon.head(2)"
   ]
  },
  {
   "cell_type": "markdown",
   "id": "13cbe29e",
   "metadata": {},
   "source": [
    "Drop wind for coal:"
   ]
  },
  {
   "cell_type": "code",
   "execution_count": null,
   "id": "c01fd8ce",
   "metadata": {},
   "outputs": [],
   "source": [
    "carbon.loc[\n",
    "    '2014-01-01 12:00:00', :\n",
    "]"
   ]
  },
  {
   "cell_type": "code",
   "execution_count": null,
   "id": "c86d53cf",
   "metadata": {},
   "outputs": [],
   "source": [
    "ds = prices.merge(carbon, how='left', left_index=True, right_index=True).sort_index()\n",
    "print(ds.columns)\n",
    "\n",
    "ds = ds.loc[:,[\n",
    "    'RRP', 'Increase'\n",
    "]]\n",
    "ds.head(3)"
   ]
  },
  {
   "cell_type": "code",
   "execution_count": null,
   "id": "7bf72b15",
   "metadata": {},
   "outputs": [],
   "source": [
    "ds = ds.dropna(axis=0)\n",
    "assert ds.isnull().sum().sum() == 0"
   ]
  },
  {
   "cell_type": "code",
   "execution_count": null,
   "id": "dbc43f96",
   "metadata": {},
   "outputs": [],
   "source": [
    "ds.shape"
   ]
  },
  {
   "cell_type": "markdown",
   "id": "93954d1e",
   "metadata": {},
   "source": [
    "## Battery Modelling"
   ]
  },
  {
   "cell_type": "code",
   "execution_count": null,
   "id": "f22247bd",
   "metadata": {},
   "outputs": [],
   "source": [
    "!pip install -q pandas==1.3.3 fastparquet\n",
    "import energypylinear as epl"
   ]
  },
  {
   "cell_type": "code",
   "execution_count": null,
   "id": "1b5be9d7",
   "metadata": {},
   "outputs": [],
   "source": [
    "mdl = epl.Battery(power=2, capacity=4)\n",
    "mdl"
   ]
  },
  {
   "cell_type": "markdown",
   "id": "c42ab8f6",
   "metadata": {},
   "source": [
    "Want to see profit versus carbon per year\n",
    "\n",
    "Also look at correlation between price & average carbon"
   ]
  },
  {
   "cell_type": "code",
   "execution_count": null,
   "id": "969c320a",
   "metadata": {},
   "outputs": [],
   "source": [
    "subset.head(3)"
   ]
  },
  {
   "cell_type": "code",
   "execution_count": null,
   "id": "fbd6542d",
   "metadata": {},
   "outputs": [],
   "source": [
    "subset = ds.iloc[:1000, :]\n",
    "\n",
    "opt_price = mdl.optimize(\n",
    "    prices=subset['RRP'], carbon=subset['Increase'], objective='price'\n",
    ")"
   ]
  },
  {
   "cell_type": "code",
   "execution_count": null,
   "id": "19f0e7fe",
   "metadata": {},
   "outputs": [],
   "source": [
    "carbon_opt = mdl.optimize(\n",
    "    prices=subset['RRP'], carbon=subset['Increase'], objective='carbon'\n",
    ")"
   ]
  },
  {
   "cell_type": "code",
   "execution_count": null,
   "id": "b0efe161",
   "metadata": {},
   "outputs": [],
   "source": [
    "opt_price = pd.DataFrame(opt_price)\n",
    "cols = [c for c in opt_price.columns if 'Cost' in c]\n",
    "opt_price.sum()[cols]"
   ]
  },
  {
   "cell_type": "code",
   "execution_count": null,
   "id": "8e4f262f",
   "metadata": {},
   "outputs": [],
   "source": [
    "pd.DataFrame(carbon_opt).sum()[cols]"
   ]
  },
  {
   "cell_type": "code",
   "execution_count": null,
   "id": "7b25b3d1",
   "metadata": {},
   "outputs": [],
   "source": [
    "cols"
   ]
  }
 ],
 "metadata": {
  "kernelspec": {
   "display_name": "Python 3 (ipykernel)",
   "language": "python",
   "name": "python3"
  },
  "language_info": {
   "codemirror_mode": {
    "name": "ipython",
    "version": 3
   },
   "file_extension": ".py",
   "mimetype": "text/x-python",
   "name": "python",
   "nbconvert_exporter": "python",
   "pygments_lexer": "ipython3",
   "version": "3.7.9"
  }
 },
 "nbformat": 4,
 "nbformat_minor": 5
}
